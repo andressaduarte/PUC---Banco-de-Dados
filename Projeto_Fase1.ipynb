{
  "cells": [
    {
      "cell_type": "code",
      "execution_count": null,
      "metadata": {
        "colab": {
          "base_uri": "https://localhost:8080/"
        },
        "id": "2M9iX67NofkK",
        "outputId": "8d3dc7e2-c8e3-4dcd-a639-0e5837852317"
      },
      "outputs": [],
      "source": [
        "import pandas as pd\n",
        "\n",
        "# Criando a variável que guardará um dicionário com as entradas do usuário para mes e temperatura\n",
        "month_temp = dict()\n",
        "\n",
        "for mes in range(1,13):\n",
        "  mes_input = int(input('Informe o mes, de 1 a 12 (sendo 1 = Janeiro e 12 = Dezembro): '))\n",
        "  if mes_input < 1 or mes_input > 12: #validação de dados para o interevalo válido de meses, caso inválido, o usuário é notificado e a repetição reinicia\n",
        "    print('Mes Inválido, insira o mes respeitando o intervalo de 1 a 12 (sendo 1 = Janeiro e 12 = Dezembro) ')\n",
        "    continue\n",
        "  temp_input = float(input('Digite a temperatura em Celsius, utilizando ponto como separador decimal: '))\n",
        "  if temp_input < -60 or temp_input > 50: # validação de dados para o intervalo válido de temperatura, caso inválido, o usuário é notificado e a repetição reinicia\n",
        "    print('Temperatura inválida, insira a temperatura respeitando o intervalo mínimo de -60 graus Celsius a 50 graus Celsius')\n",
        "    continue\n",
        "  month_temp[mes_input] = temp_input #guarda as entradas do usuário em um dicionário com chave = mes_input e valor = temp_input\n",
        "\n",
        "\n"
      ]
    },
    {
      "cell_type": "code",
      "execution_count": null,
      "metadata": {
        "colab": {
          "base_uri": "https://localhost:8080/"
        },
        "id": "zjn70I5vp7bG",
        "outputId": "cdbcf46f-f02b-4822-cdd0-f28ced8e1fe2"
      },
      "outputs": [],
      "source": [
        "# Transformando o dicionário em dataframe para manipulação com a biblioteca pandas\n",
        "df_temp = pd.DataFrame(list(month_temp.items()), columns = [\"Mes\", \"Temperatura\"])\n",
        "months = ['Janeiro', 'Fevereiro', 'Março', 'Abril', 'Maio', 'Junho', 'Julho', 'Agosto', 'Setembro', 'Outubro', 'Novembro', 'Dezembro']\n",
        "df_temp = df_temp.assign(Mes = months)\n",
        "print(df_temp)"
      ]
    },
    {
      "cell_type": "code",
      "execution_count": null,
      "metadata": {
        "colab": {
          "base_uri": "https://localhost:8080/"
        },
        "id": "onHpRVoFWCRO",
        "outputId": "1b378ac6-c88b-4c6d-a07d-25a20da51f7c"
      },
      "outputs": [],
      "source": [
        "# Temperatura média máxima anual\n",
        "average_temp = df_temp[\"Temperatura\"].mean()\n",
        "print(average_temp)"
      ]
    },
    {
      "cell_type": "code",
      "execution_count": null,
      "metadata": {
        "colab": {
          "base_uri": "https://localhost:8080/"
        },
        "id": "fsCTpPFmWoG9",
        "outputId": "e6fb8379-e826-43cf-9659-f07ae590ab5a"
      },
      "outputs": [],
      "source": [
        "# Quantidade de meses escaldantes (acima de 33 graus Celsius)\n",
        "count_escaldantes = len(df_temp[df_temp[\"Temperatura\"]>33])\n",
        "print(count_escaldantes)"
      ]
    },
    {
      "cell_type": "code",
      "execution_count": null,
      "metadata": {
        "colab": {
          "base_uri": "https://localhost:8080/"
        },
        "id": "IZ1t8VLNYiOo",
        "outputId": "7097f913-2c3f-4d53-a11b-9997d371fa66"
      },
      "outputs": [],
      "source": [
        "# Mes mais escaldante do ano\n",
        "print(df_temp[\"Mes\"].iloc[df_temp[\"Temperatura\"].idxmax()])"
      ]
    },
    {
      "cell_type": "code",
      "execution_count": null,
      "metadata": {
        "colab": {
          "base_uri": "https://localhost:8080/"
        },
        "id": "82OL7kq6Ytm9",
        "outputId": "42aaca63-b094-45cc-aaef-d0a8137e726d"
      },
      "outputs": [],
      "source": [
        "# Mes menos quente do ano\n",
        "print(df_temp[\"Mes\"].iloc[df_temp[\"Temperatura\"].idxmin()])"
      ]
    }
  ],
  "metadata": {
    "colab": {
      "provenance": []
    },
    "kernelspec": {
      "display_name": "Python 3",
      "name": "python3"
    },
    "language_info": {
      "name": "python"
    }
  },
  "nbformat": 4,
  "nbformat_minor": 0
}
